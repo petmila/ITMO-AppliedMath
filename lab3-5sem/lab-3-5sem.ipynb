{
 "cells": [
  {
   "attachments": {},
   "cell_type": "markdown",
   "metadata": {},
   "source": [
    "### Лабораторная работа №3. Маркоские цепи\n",
    "Выполнили студенты: Петренко Людмила М33001, Кусайкина Елизавета М33001, Шалимов Иван М33021"
   ]
  },
  {
   "cell_type": "code",
   "execution_count": 23,
   "metadata": {},
   "outputs": [],
   "source": [
    "import numpy as np\n",
    "import matplotlib.pyplot as plt"
   ]
  },
  {
   "cell_type": "code",
   "execution_count": 64,
   "metadata": {},
   "outputs": [],
   "source": [
    "# распределение по состояниям, численное решение\n",
    "def probability_distribution_numeric(matrix, initial_state, eps = 1e-6, steps = 1000):\n",
    "    mean_average_square_error = []\n",
    "    state = np.copy(initial_state)\n",
    "    step = 0\n",
    "    while step < steps:\n",
    "        new_state = np.matmul(state, matrix)\n",
    "        mase = np.std(np.abs(state - new_state))\n",
    "        if mase < eps:\n",
    "            break\n",
    "        \n",
    "        mean_average_square_error.append(mase)\n",
    "        state = new_state\n",
    "        step += 1\n",
    "    \n",
    "    return state, mean_average_square_error, step\n",
    "\n",
    "# распределение по состояниям, аналитическое решение\n",
    "def probability_distribution_analytic(matrix):\n",
    "    matrix_minus_single = matrix - np.eye(matrix.shape[0])\n",
    "    b = np.zeros(matrix.shape[0])\n",
    "    matrix_minus_single[-1] = np.ones(matrix.shape[0])\n",
    "    b[-1] = 1\n",
    "    return np.linalg.solve(matrix_minus_single, b)"
   ]
  },
  {
   "cell_type": "code",
   "execution_count": 18,
   "metadata": {},
   "outputs": [],
   "source": [
    "initial_state_1 = [0, 0, 0, 0, 0, 1, 0, 0]\n",
    "initial_state_2 = [0, 1, 0, 0, 0, 0, 0, 0]\n",
    "\n",
    "matrix = [[0.13, 0.5, 0, 0, 0.37, 0, 0, 0], \n",
    "          [0.5, 0.05, 0.05, 0, 0, 0.1, 0, 0.3],\n",
    "\t\t  [0, 0.05, 0.4, 0.1, 0.15, 0.3, 0, 0],\n",
    "\t\t  [0, 0, 0.1, 0.3, 0.15, 0, 0.45, 0],\n",
    "\t      [0.37, 0, 0.15, 0.15, 0.13, 0.2, 0, 0],\n",
    "\t\t  [0, 0.1, 0.3, 0, 0.2, 0.05, 0.05, 0.3],\n",
    "\t\t  [0, 0, 0, 0.45, 0, 0.05, 0.2, 0.3],\n",
    "\t      [0, 0.3, 0, 0, 0, 0.3, 0.3, 0.1]]"
   ]
  },
  {
   "cell_type": "code",
   "execution_count": 22,
   "metadata": {},
   "outputs": [
    {
     "name": "stdout",
     "output_type": "stream",
     "text": [
      "[0.12500473 0.12500405 0.12500067 0.12499396 0.12500235 0.12500085\n",
      " 0.12499415 0.12499922] [0.12500532 0.1250032  0.12500067 0.12499436 0.12500184 0.12500085\n",
      " 0.1249941  0.12499967]\n"
     ]
    }
   ],
   "source": [
    "state1, mase_1, step_1 = probability_distribution_numeric(np.array(matrix), np.array(initial_state_1))\n",
    "state2, mase_2, step_2 = probability_distribution_numeric(np.array(matrix), np.array(initial_state_2))\n",
    "\n",
    "print(state1, state2)"
   ]
  },
  {
   "cell_type": "code",
   "execution_count": 45,
   "metadata": {},
   "outputs": [
    {
     "name": "stdout",
     "output_type": "stream",
     "text": [
      "23 27\n"
     ]
    },
    {
     "data": {
      "image/png": "[encoded data removed]",
      "text/plain": [
       "<Figure size 432x288 with 1 Axes>"
      ]
     },
     "metadata": {
      "needs_background": "light"
     },
     "output_type": "display_data"
    }
   ],
   "source": [
    "print(step_1, step_2)\n",
    "plt.plot(np.arange(1, step_1 + 1, 1), np.array(mase_1), label='initial_state_1')\n",
    "plt.plot(np.arange(1, step_2 + 1, 1), np.array(mase_2), label='initial_state_2')\n",
    "plt.xlabel('шаги')\n",
    "plt.ylabel('среднеквадратическое отклонение')\n",
    "plt.legend()\n",
    "plt.show()"
   ]
  },
  {
   "cell_type": "code",
   "execution_count": 65,
   "metadata": {},
   "outputs": [
    {
     "name": "stdout",
     "output_type": "stream",
     "text": [
      "[0.125 0.125 0.125 0.125 0.125 0.125 0.125 0.125]\n"
     ]
    }
   ],
   "source": [
    "print(probability_distribution_analytic(np.array(matrix)))"
   ]
  }
 ],
 "metadata": {
  "kernelspec": {
   "display_name": "base",
   "language": "python",
   "name": "python3"
  },
  "language_info": {
   "codemirror_mode": {
    "name": "ipython",
    "version": 3
   },
   "file_extension": ".py",
   "mimetype": "text/x-python",
   "name": "python",
   "nbconvert_exporter": "python",
   "pygments_lexer": "ipython3",
   "version": "3.9.7"
  },
  "orig_nbformat": 4,
  "vscode": {
   "interpreter": {
    "hash": "88279d2366fe020547cde40dd65aa0e3aa662a6ec1f3ca12d88834876c85e1a6"
   }
  }
 },
 "nbformat": 4,
 "nbformat_minor": 2
}
