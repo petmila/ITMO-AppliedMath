{
 "cells": [
  {
   "attachments": {},
   "cell_type": "markdown",
   "metadata": {},
   "source": [
    "### Лабораторная работа №1. Симплекс-метод\n",
    "Выполнили студенты: Петренко Людмила М33001, Кусайкина Елизавета М33001, Шалимов Иван М33021"
   ]
  },
  {
   "cell_type": "code",
   "execution_count": 1,
   "metadata": {},
   "outputs": [],
   "source": [
    "import numpy as np\n",
    "import matplotlib.pyplot as plt\n",
    "import json"
   ]
  },
  {
   "attachments": {},
   "cell_type": "markdown",
   "metadata": {},
   "source": [
    "**Задача линейного программирования** - оптимизация линейной функции с некоторым набором ограничений. \n",
    "\n",
    "**Каноническая форма** задачи линейного программирования предполагает, что все ограничения будут заданы равенствами, а все переменные будут неотрицательными. Для приведения к канонической форме используется добавление балансирующих переменных - увеличение размерности.\n",
    "\n",
    "##### Алгоритм Симплекс-метода.\n",
    "\n",
    "1. Построение опорного плана\n",
    "    * После того, как задача была приведена к канонической форме, среди переменных функции выбирают базисные. В большинстве случаев в качестве базисных будут использоваться балансирующие переменные.\n",
    "\n",
    "    * **Опорный план** - начальные значения переменных, одна из точек многогранника решений. В большинстве случаев мы заполняем небазисные переменные нулями, а значения для базисных берем из столбца свободных членов системы.\n",
    "    * Необходимо построить симплекс-таблицу, соответствующую выбранному опорному плану.\n",
    "\n",
    "2. Построение оптимального плана\n",
    "    * Для того, чтобы опорный план стал оптимальным, с помощью симплекс-таблицы ищут разрешающие строку и столбец, а затем меняют базисную переменную из строки и небазисную из столбца местами, пересчитывая матрицу системы, симплекс-таблицу и соответственно опорный план.\n",
    "    * Разрешающие строка и столбец выбираются таким образом, чтобы минимизировать (или максимизировать, зависит от условий задачи) значение целевой функции для нового опорного плана. \n",
    "\n",
    "        * При минимизации выбирают разрешающий столбец, который имеет минимальный отрицательный коэффициент в функции. Тогда при его увеличении, значение функции уменьшится.\n",
    "        * При максимизации, соответственно, выбирают столбец с максимальным положительным коэффициентом, чтобы увеличивая значение переменной, увеличить целевую функцию.\n",
    "\n",
    "    * Следовательно, опорный план становится оптимальным, когда либо все коэффициенты функции неотрицательны - в случае минимизации, либо все коэффициенты неположительны - в случае максимизации.\n",
    "\n",
    "    * Выбор разрешающей строки делается так, чтобы для выбранной переменной, отношение соответствующего ей свободного члена к значению из разрешающего столбца было минимальным."
   ]
  },
  {
   "attachments": {},
   "cell_type": "markdown",
   "metadata": {},
   "source": [
    "Класс **Linear task** описывает задачу линейного программирования: коэффициенты оптимизируемой линейной функции и ограничения, а также предоставляет реализацию симплекс метода для решения задачи.\n",
    "\n",
    "Данные о функции и ограничения считываются из json файла, в качестве результата работы симплекс метода предоставляется вектор значений аргументов."
   ]
  },
  {
   "cell_type": "code",
   "execution_count": 2,
   "metadata": {},
   "outputs": [],
   "source": [
    "class Linear_task:\n",
    "    def __init__(self):\n",
    "        self.func: np.array(int)\n",
    "        self.goal: str\n",
    "        self.constraints: list[dict()]\n",
    "        self.constraints_matrix: np.array()\n",
    "        self.b_array: np.array()\n",
    "        self.original_size: int\n",
    "\n",
    "        self.simplex_table = dict()\n",
    "        self.optimal: np.array()\n",
    "        self.basis: np.array()\n",
    "        self.func_b = 0.0\n",
    "    \n",
    "    # считывание условий задачи из файла json\n",
    "    def load_data_from_json(self, filename: str) -> None:\n",
    "        with open(filename) as f:\n",
    "            data = json.load(f)\n",
    "        self.func = np.array(data[' f '].copy()).astype(np.float32)\n",
    "        self.original_size = len(self.func)\n",
    "        self.goal = data[' goal ']\n",
    "        self.constraints = data[' constraints ']\n",
    "        self.constraints_matrix = np.array([line[' coefs '] for line in self.constraints]).astype(np.float32)\n",
    "        self.b_array = np.array([line[' b '] for line in self.constraints]).astype(np.float32)\n",
    "        self.make_canonic_form()\n",
    "\n",
    "    # переход к канонической форме задачи - добавление балансирующих переменных\n",
    "    def make_canonic_form(self) -> None:\n",
    "        for index, line in enumerate(self.constraints):\n",
    "            if line[' type '] != ' eq ':\n",
    "                if line[' type '] == ' gte ':\n",
    "                    for item in self.constraints_matrix[index]:\n",
    "                        item = -item\n",
    "                self.constraints_matrix = np.append(self.constraints_matrix, \n",
    "                        [[1] if i == index else [0] for i in range(len(self.constraints_matrix))], axis= 1)\n",
    "                self.func = np.append(self.func, 0)\n",
    "        \n",
    "    def simplex_method(self):\n",
    "        self.set_start_values()\n",
    "\n",
    "        while True:\n",
    "            column = self.choose_solving_column()\n",
    "            # остановка алгоритма\n",
    "            if column == -1:\n",
    "                break\n",
    "            try:\n",
    "                row, new_value = self.choose_solving_row(column)\n",
    "            except ValueError:\n",
    "                return \"Система ограничений несовместна\"\n",
    "            self.recount_matrix(column, row)\n",
    "            self.recount_optimal(column, new_value, row)\n",
    "            self.recount_simplex_table(column, row)\n",
    "            self.change_func_coefs(column, row)\n",
    "            print(\"Значение функции:    \", np.dot(self.optimal, self.func.T) + self.func_b)\n",
    "\n",
    "        return self.optimal[: self.original_size]\n",
    "\n",
    "    def change_func_coefs(self, index_new_basis, index_old_basis):\n",
    "\n",
    "        for i in range(len(self.constraints_matrix)):\n",
    "            if self.constraints_matrix[i][index_new_basis] != 0:\n",
    "                self.func_b += self.func[index_new_basis]*self.b_array[i]\n",
    "                for j, value in enumerate(self.constraints_matrix[i]):\n",
    "                    if j != index_new_basis:\n",
    "                        self.func[j] += -self.func[index_new_basis]*value\n",
    "                        \n",
    "        self.func[index_new_basis] = 0\n",
    "            \n",
    "    def recount_simplex_table(self, index_new_basis, index_old_basis):\n",
    "        self.simplex_table[index_new_basis] = dict.fromkeys(list(self.simplex_table[index_old_basis].keys()))\n",
    "        del self.simplex_table[index_old_basis]\n",
    "        \n",
    "        for key, value in self.simplex_table.items():\n",
    "            del value[index_new_basis]\n",
    "            for i in range(len(self.constraints_matrix)):\n",
    "                if self.constraints_matrix[i][key] != 0:\n",
    "                    value[index_old_basis] = self.constraints_matrix[i][index_old_basis]/self.constraints_matrix[i][key]\n",
    "        \n",
    "        for key_ in self.simplex_table.keys():\n",
    "            for key, value in self.simplex_table[key_].items():\n",
    "                if key == index_old_basis:\n",
    "                    continue\n",
    "                for i in range(len(self.constraints_matrix)):\n",
    "                    if self.constraints_matrix[i][key_] == 0:\n",
    "                        continue\n",
    "                    self.simplex_table[key_][key] = self.constraints_matrix[i][key]/self.constraints_matrix[i][key_]\n",
    "    \n",
    "    def recount_matrix(self, old_index, new_index):\n",
    "        matrix = np.copy(self.constraints_matrix)\n",
    "        basis_indices = list(self.simplex_table.keys())\n",
    "        basis_indices.remove(new_index)\n",
    "        b = np.copy(self.b_array)\n",
    "        line_number = -1\n",
    "        for row in range(len(self.constraints_matrix)):\n",
    "            flag_right_line = True\n",
    "            for k in basis_indices:\n",
    "                if matrix[row][k] != 0:\n",
    "                    flag_right_line = False\n",
    "            if matrix[row][old_index] == 0:\n",
    "                continue\n",
    "            elif flag_right_line:\n",
    "                line_number = row\n",
    "                break\n",
    "\n",
    "        for row in range(len(self.constraints_matrix)):\n",
    "            if matrix[row][old_index] == 0:\n",
    "                continue\n",
    "            elif row == line_number:\n",
    "                f = matrix[row][old_index]\n",
    "                for j in range(len(self.constraints_matrix[row])):\n",
    "                    matrix[row][j] /= f\n",
    "                b[row] /= f\n",
    "            else:\n",
    "                f = matrix[row][old_index] / matrix[line_number][old_index]\n",
    "                for j in range(len(self.constraints_matrix[row])):\n",
    "                    matrix[row][j] -= f * matrix[line_number][j]\n",
    "                b[row] -= f * b[line_number]\n",
    "            \n",
    "        self.constraints_matrix = matrix\n",
    "        self.b_array = b\n",
    "\n",
    "    def recount_optimal(self, index_new_basis, new_value, index_old_basis):\n",
    "        for i in self.simplex_table.keys():\n",
    "            for row in range(len(self.constraints_matrix)):\n",
    "                if self.constraints_matrix[row][i] != 0:\n",
    "                    self.optimal[i] = self.b_array[row]/self.constraints_matrix[row][i]\n",
    "\n",
    "        self.optimal[index_new_basis] = new_value\n",
    "        self.optimal[index_old_basis] = 0\n",
    "\n",
    "    def set_start_values(self):\n",
    "        self.optimal = [0 for i in range(len(self.func))]\n",
    "        # определение базисных векторов\n",
    "        self.simplex_table = dict.fromkeys([i for i in range(self.original_size, len(self.func))])\n",
    "\n",
    "        for k in range(len(self.constraints_matrix)):\n",
    "            for i in range(self.original_size):\n",
    "                if self.constraints_matrix[k][i] == 0:\n",
    "                    continue\n",
    "                flag_basis = True\n",
    "                for j in self.simplex_table.keys():\n",
    "                    if self.constraints_matrix[k][j] != 0:\n",
    "                        flag_basis = False\n",
    "            if flag_basis:\n",
    "                self.simplex_table[i] = None\n",
    "        nonbasis = [i for i in range(len(self.func)) if i not in self.simplex_table]\n",
    "\n",
    "        for i in range(len(self.func)):\n",
    "            if i in self.simplex_table:\n",
    "                for k in range(len(self.constraints_matrix)):\n",
    "                    if self.constraints_matrix[k][i] == 0:\n",
    "                        continue\n",
    "                    row = {j : self.constraints_matrix[k][j]/self.constraints_matrix[k][i] for j in nonbasis}\n",
    "                    self.simplex_table[i] = row.copy()\n",
    "                    self.optimal[i] = self.b_array[k]\n",
    "            else:\n",
    "                self.optimal[i] = 0\n",
    "\n",
    "        self.optimal = np.array(self.optimal)\n",
    "        self.optimal_func = np.dot(self.optimal, self.func.T)\n",
    "\n",
    "    def choose_solving_row(self, column):\n",
    "        dict_ = {key: abs(self.optimal[key]/value[column]) for key, value in self.simplex_table.items()\n",
    "                  if value[column] != 0 and self.optimal[key]/value[column] > 0}\n",
    "        if len(list(dict_.values())) == 0:\n",
    "            raise ValueError\n",
    "        min_value = min(list(dict_.values()))\n",
    "        row = list(dict_.keys())[list(dict_.values()).index(min_value)]\n",
    "\n",
    "        return row, min_value\n",
    "\n",
    "    def choose_solving_column(self):\n",
    "        max_index = -1\n",
    "        min_index = -1\n",
    "        for i in list(self.simplex_table[list(self.simplex_table.keys())[0]].keys()):\n",
    "            if self.goal == \" max \":\n",
    "                if self.func[i] >= self.func[max_index] and self.func[i] >= 0:\n",
    "                    max_index = i\n",
    "            elif self.goal == \" min \":\n",
    "                if self.func[i] < self.func[min_index] and self.func[i] <= 0:\n",
    "                    min_index = i\n",
    "        \n",
    "        if self.goal == \" max \":\n",
    "            return max_index\n",
    "        elif self.goal == \" min \":\n",
    "            return min_index"
   ]
  },
  {
   "attachments": {},
   "cell_type": "markdown",
   "metadata": {},
   "source": [
    "#### Примеры результатов."
   ]
  },
  {
   "attachments": {},
   "cell_type": "markdown",
   "metadata": {},
   "source": [
    "##### 1. Максимизация функции с равенством\n",
    "\n",
    "$f(x) = x_1 + 2x_2 + 3x_3$ -> max\n",
    "\n",
    "$\\begin{cases}\n",
    "x_1 \\le 1  \\\\\n",
    "x_1 + x_2 \\ge 2   \\\\\n",
    "x_1 + x_2 + x_3 = 3 \n",
    "\\end{cases}$"
   ]
  },
  {
   "cell_type": "code",
   "execution_count": 152,
   "metadata": {},
   "outputs": [
    {
     "name": "stdout",
     "output_type": "stream",
     "text": [
      "Значение функции:     7.0\n",
      "Решение:  [0. 2. 1.]\n"
     ]
    }
   ],
   "source": [
    "task = Linear_task()\n",
    "task.load_data_from_json('data.json')\n",
    "print(\"Решение: \", task.simplex_method())"
   ]
  },
  {
   "attachments": {},
   "cell_type": "markdown",
   "metadata": {},
   "source": [
    "##### 2. Максимизация функции с неравенствами\n",
    "\n",
    "$f(x) = 2x_1 + 3x_2$ -> max\n",
    "\n",
    "$\\begin{cases}\n",
    "x_1 \\le 40  \\\\\n",
    "x_2 \\le 30  \\\\\n",
    "x_1 + x_2 \\le 60   \\\\\n",
    "x_1 + 2x_2 \\le 80 \n",
    "\\end{cases}$"
   ]
  },
  {
   "cell_type": "code",
   "execution_count": 153,
   "metadata": {},
   "outputs": [
    {
     "name": "stdout",
     "output_type": "stream",
     "text": [
      "Значение функции:     90.0\n",
      "Значение функции:     130.0\n",
      "Значение функции:     140.0\n",
      "Решение:  [40. 20.]\n"
     ]
    }
   ],
   "source": [
    "task = Linear_task()\n",
    "task.load_data_from_json('data_2.json')\n",
    "print(\"Решение: \", task.simplex_method())"
   ]
  },
  {
   "attachments": {},
   "cell_type": "markdown",
   "metadata": {},
   "source": [
    "##### 3. Минимизация функции\n",
    "\n",
    "$f(x) = x_1 - x_2$ -> min\n",
    "\n",
    "$\\begin{cases}\n",
    "x_1 - 2x_2 \\le 1  \\\\\n",
    "2x_1 - x_2 \\ge 2  \\\\\n",
    "3x_1 + x_2 \\le 3 \n",
    "\\end{cases}$"
   ]
  },
  {
   "cell_type": "code",
   "execution_count": 154,
   "metadata": {},
   "outputs": [
    {
     "name": "stdout",
     "output_type": "stream",
     "text": [
      "Значение функции:     -2.0\n",
      "Значение функции:     -2.2000000029802322\n",
      "Решение:  [0.2       2.4000001]\n"
     ]
    }
   ],
   "source": [
    "task = Linear_task()\n",
    "task.load_data_from_json('data_3.json')\n",
    "print(\"Решение: \", task.simplex_method())"
   ]
  },
  {
   "attachments": {},
   "cell_type": "markdown",
   "metadata": {},
   "source": [
    "##### 4. Минимизация функции, функция неограничена снизу\n",
    "\n",
    "$f(x) = -x_1 - x_2$ -> min\n",
    "\n",
    "$\\begin{cases}\n",
    "-x_1 + x_2 \\le 1  \\\\\n",
    "x_1 - 2x_2 \\le 2 \n",
    "\\end{cases}$"
   ]
  },
  {
   "cell_type": "code",
   "execution_count": 155,
   "metadata": {},
   "outputs": [
    {
     "name": "stdout",
     "output_type": "stream",
     "text": [
      "Значение функции:     -2.0\n",
      "Решение:  Система ограничений несовместна\n"
     ]
    }
   ],
   "source": [
    "task = Linear_task()\n",
    "task.load_data_from_json('data_2_error.json')\n",
    "print(\"Решение: \", task.simplex_method())"
   ]
  },
  {
   "attachments": {},
   "cell_type": "markdown",
   "metadata": {},
   "source": [
    "#### Тестирование"
   ]
  },
  {
   "cell_type": "code",
   "execution_count": 5,
   "metadata": {},
   "outputs": [
    {
     "name": "stdout",
     "output_type": "stream",
     "text": [
      "Значение функции:     13.333333730697632\n",
      "Значение функции:     17.066666841506958\n",
      "Значение функции:     18.65853664080302\n",
      "Решение:  [2.17073156 1.21951234 1.51219499]\n"
     ]
    }
   ],
   "source": [
    "task = Linear_task()\n",
    "task.load_data_from_json('data_1.json')\n",
    "print(\"Решение: \", task.simplex_method())"
   ]
  }
 ],
 "metadata": {
  "kernelspec": {
   "display_name": "base",
   "language": "python",
   "name": "python3"
  },
  "language_info": {
   "codemirror_mode": {
    "name": "ipython",
    "version": 3
   },
   "file_extension": ".py",
   "mimetype": "text/x-python",
   "name": "python",
   "nbconvert_exporter": "python",
   "pygments_lexer": "ipython3",
   "version": "3.9.7"
  },
  "orig_nbformat": 4,
  "vscode": {
   "interpreter": {
    "hash": "88279d2366fe020547cde40dd65aa0e3aa662a6ec1f3ca12d88834876c85e1a6"
   }
  }
 },
 "nbformat": 4,
 "nbformat_minor": 2
}
