{
  "cells": [
    {
      "cell_type": "code",
      "execution_count": 1,
      "metadata": {
        "id": "PGqI6zMllvcr"
      },
      "outputs": [],
      "source": [
        "import numpy as np\n",
        "import matplotlib.pyplot as plt\n",
        "import random"
      ]
    },
    {
      "cell_type": "markdown",
      "metadata": {
        "id": "06JyAFN5ny-l"
      },
      "source": [
        "### Алгоритмы решения СЛАУ"
      ]
    },
    {
      "cell_type": "code",
      "execution_count": 2,
      "metadata": {
        "id": "HY2WCblll72V"
      },
      "outputs": [],
      "source": [
        "# метод Гаусса\n",
        "def gauss(A, b):\n",
        "    n = len(b)\n",
        "    x = np.zeros(n)\n",
        "    iterations = 0\n",
        "    # Прямой ход\n",
        "    for k in range(n):\n",
        "        # выбираем строку с максимальным первым коэффициентом\n",
        "        max_row = k\n",
        "        for j in range(k + 1, n):\n",
        "            if abs(A[j][k]) > abs(A[max_row][k]):\n",
        "                max_row = j\n",
        "            A[k], A[max_row] = A[max_row], A[k]\n",
        "            b[k], b[max_row] = b[max_row], b[k]\n",
        "\n",
        "        for i in range(k + 1, n):\n",
        "            # множитель Гаусса\n",
        "            factor = A[i][k] / A[k][k]\n",
        "            # вычитаем k-тое первое уравнение начиная с k+1-ого\n",
        "            for j in range(k + 1, n):\n",
        "                A[i][j] -= factor * A[k][j]\n",
        "                iterations += 1\n",
        "            b[i] -= factor * b[k]\n",
        "    # Обратный ход\n",
        "    for k in range(n - 1, -1, -1):\n",
        "        x[k] = b[k] / A[k][k]\n",
        "        for j in range(k):\n",
        "            b[j] -= A[j][k] * x[k]\n",
        "            iterations += 1\n",
        "    return x, iterations\n",
        "\n",
        "# LU - разложение\n",
        "def LU(A):\n",
        "  n = len(A)\n",
        "  U = np.zeros((n, n))\n",
        "  L = np.zeros((n, n))\n",
        "  iterations = 0\n",
        "  for i in range(n):\n",
        "    L[i][i] = 1\n",
        "  for i in range(n):\n",
        "    for j in range(n):\n",
        "      if i <= j:\n",
        "        sum = 0\n",
        "        for k in range(i):\n",
        "          sum += U[k][j]*L[i][k]\n",
        "        U[i][j] = A[i][j] - sum\n",
        "        iterations += 1\n",
        "      else:\n",
        "        sum = 0\n",
        "        for k in range(j):\n",
        "          sum += U[k][j]*L[i][k]\n",
        "        L[i][j] = (A[i][j] - sum)/U[j][j]\n",
        "        iterations += 1\n",
        "  return L, U, iterations\n",
        "\n",
        "# решение СЛАУ с использованием LU-разложения\n",
        "def LU_slay(A, b):\n",
        "  n = len(A)\n",
        "  L, U, iterations = LU(A)\n",
        "  x = np.zeros(n)\n",
        "  y = np.zeros(n)\n",
        "  # последовательно выражаем неизвестные в уравнении Ly = b\n",
        "  for k in range(n):\n",
        "    y[k] = b[k]\n",
        "    for j in range(k):\n",
        "        y[k] -= L[k][j] * y[j]\n",
        "        iterations += 1\n",
        "  # последовательно выражаем неизвестные в уравнении Ux = y\n",
        "  for k in range(n - 1, -1, -1):\n",
        "    x[k] = y[k] / U[k][k]\n",
        "    for j in range(k):\n",
        "      y[j] -= U[j][k] * x[k]\n",
        "      iterations += 1\n",
        "  return x, iterations\n",
        "\n",
        "# итерационное решение СЛАУ с использованием метода Зейделя \n",
        "def method_seidel(A, b, eps):\n",
        "  n = len(A)\n",
        "  x = np.zeros(n)\n",
        "  iterations = 0\n",
        "  continue_work = True\n",
        "  while continue_work == True:\n",
        "    x_new = np.copy(x)\n",
        "    for i in range(n):\n",
        "      sum1 = sum(A[i][j] * x_new[j] for j in range(i))\n",
        "      sum2 = sum(A[i][j] * x[j] for j in range(i + 1, n))\n",
        "      x_new[i] = (b[i] - sum1 - sum2) / A[i][i] \n",
        "      iterations += 1\n",
        "    if np.linalg.norm(x_new - x) < eps:\n",
        "      continue_work = False\n",
        "    x = x_new\n",
        "  return x, iterations\n"
      ]
    },
    {
      "cell_type": "markdown",
      "metadata": {
        "id": "Ft7UZMxNNGbp"
      },
      "source": [
        "### Исследование реализованных алгоритмов"
      ]
    },
    {
      "cell_type": "code",
      "execution_count": 8,
      "metadata": {
        "colab": {
          "base_uri": "https://localhost:8080/"
        },
        "id": "Agqc-V-HnyFg",
        "outputId": "f80cc142-5696-4c3d-b779-6efdb873d247"
      },
      "outputs": [
        {
          "name": "stdout",
          "output_type": "stream",
          "text": [
            "[-0.99971279  2.99947065  0.99993431]\n"
          ]
        }
      ],
      "source": [
        "# Проверка\n",
        "A = [[3, 2, -5], [2, -1, 3], [1, 2, -1]]\n",
        "b = [-1, 13, 9]\n",
        "\n",
        "#A = [[10, 1, -1], [1, 10, -1], [-1, 1, 10]]\n",
        "#b = [11, 10, 10]\n",
        "#A = np.array([[35, 10.5, 4], [12, 19.5, 4], [33, 10.5, 49]])\n",
        "#b = np.array([[-125], [-32], [-161.5]])\n",
        "\n",
        "A = [[4, 2, -1], [5, 3, -2], [3, 2, -3]]\n",
        "b = [1, 2, 0]\n",
        "\n",
        "# ответ [3, 5, 4]\n",
        "#print(gauss(A, b))\n",
        "#print(LU_slay(A, b))\n",
        "print(method_seidel(A, b, 0.0001))"
      ]
    },
    {
      "cell_type": "code",
      "execution_count": 5,
      "metadata": {
        "id": "Ar5mdLeEQ6hV"
      },
      "outputs": [],
      "source": [
        "# создание матрицы A\n",
        "def matrix_A(n):\n",
        "  A = np.zeros((n, n))\n",
        "  for i in range(n):\n",
        "    for j in range(n):\n",
        "      if i != j:\n",
        "        A[i][j] = random.choice([0, -1, -2, -3, -4])\n",
        "  for i in range(n):\n",
        "    A[i][i] = sum(A[i][j] for j in range(i)) +sum(A[i][j] for j in range(i+1, n))\n",
        "    if i == 0:\n",
        "      A[i][i] += 10**(-float(n))\n",
        "  return A\n",
        "\n",
        "# свободный член уравнения\n",
        "def F(A):\n",
        "  n = len(A)\n",
        "  # решение x = (1, ..., n)\n",
        "  x = np.arange(1, n + 1)\n",
        "  return np.dot(A, x)"
      ]
    },
    {
      "cell_type": "code",
      "execution_count": 99,
      "metadata": {
        "id": "8vjUtdT0BNhQ"
      },
      "outputs": [],
      "source": [
        "# проверка на диагональное преобладание\n",
        "def diagonal(A):\n",
        "  n = len(A)\n",
        "  if (max(sum(abs(A[i][j])/abs(A[i][i]) for j in range(i)) + sum(abs(A[i][j])/abs(A[i][i]) for j in range(i+1, n)) for i in range(n))) < 1.001 :\n",
        "    return True\n",
        "  return False\n",
        "\n",
        "# число обусловленности (для матриц с диагональным преобладанием)\n",
        "def cond_A(A):\n",
        "  n = len(A)\n",
        "  return 1 / (max(abs(A[i][i]) - (sum(A[i][j] for j in range(i)) + sum(A[i][j] for j in range(i+1, n))) for i in range(n)))"
      ]
    },
    {
      "cell_type": "code",
      "execution_count": 18,
      "metadata": {
        "id": "G23lXcleBW4q"
      },
      "outputs": [],
      "source": [
        "def eps(x_):\n",
        "  n = len(x_)\n",
        "  # точное решение x = (1, ..., n)\n",
        "  x = np.arange(1, n + 1)\n",
        "  s = 0\n",
        "  for i in range(n):\n",
        "    s += (x_[i] - x[i])**2\n",
        "  return np.sqrt(s)"
      ]
    },
    {
      "cell_type": "code",
      "execution_count": 70,
      "metadata": {
        "id": "RNFbrmRt-MRa"
      },
      "outputs": [],
      "source": [
        "def make_data_A(n):\n",
        "  cond = []\n",
        "  eps_lu = []\n",
        "  eps_seidel = []\n",
        "  eps_gauss = []\n",
        "  for i in n:\n",
        "    A = matrix_A(i)\n",
        "    b = F(A)\n",
        "    lu = LU_slay(A, b)[0]\n",
        "    seidel = method_seidel(A, b, 0.01)[0]\n",
        "    gaus = gauss(A, b)[0]\n",
        "    # print(\"Размерность:\", i)\n",
        "    # print(\"Ошибка:\")\n",
        "    eps_lu.append(eps(lu))\n",
        "    # print(\" lu:   \", eps(lu))\n",
        "    eps_seidel.append(eps(seidel))\n",
        "    # print(\" seidel:   \", eps(seidel))\n",
        "    eps_gauss.append(eps(gaus))\n",
        "    # print(\" gauss:  \", eps(gaus))\n",
        "    cond.append(cond_A(A))\n",
        "    # print(\"Число обусловленности:\", cond_A(A))\n",
        "  return cond, eps_lu, eps_seidel, eps_gauss"
      ]
    },
    {
      "cell_type": "code",
      "execution_count": 69,
      "metadata": {
        "colab": {
          "base_uri": "https://localhost:8080/",
          "height": 1000
        },
        "id": "-B5mzXmwQQLQ",
        "outputId": "8dd407d1-99b0-4d7c-9219-814bc37db298"
      },
      "outputs": [
        {
          "name": "stdout",
          "output_type": "stream",
          "text": [
            "Размерность: 5\n",
            "Ошибка:\n",
            " lu:    0.0\n",
            " seidel:    0.003729970726813521\n",
            " gauss:   0.0\n",
            "Число обусловленности: 0.05170916278026851\n",
            "Размерность: 10\n",
            "Ошибка:\n",
            " lu:    4.7311656265286475e-15\n",
            " seidel:    0.0007823725566685612\n",
            " gauss:   4.289830510009564e-15\n",
            "Число обусловленности: 0.023099038237263933\n",
            "Размерность: 15\n",
            "Ошибка:\n",
            " lu:    1.212534334402808e-14\n",
            " seidel:    0.0025500238461198233\n",
            " gauss:   1.3631802778287419e-14\n",
            "Число обусловленности: 0.014695134113313198\n",
            "Размерность: 20\n",
            "Ошибка:\n",
            " lu:    9.454512220249963e-15\n",
            " seidel:    0.0015664376070115558\n",
            " gauss:   1.7941698724946562e-14\n",
            "Число обусловленности: 0.011851369971348474\n",
            "Размерность: 25\n",
            "Ошибка:\n",
            " lu:    2.8051537443747344e-14\n",
            " seidel:    0.0020470223788826734\n",
            " gauss:   2.7013804640146715e-14\n",
            "Число обусловленности: 0.009202758079266325\n",
            "Размерность: 30\n",
            "Ошибка:\n",
            " lu:    2.5611524137444757e-14\n",
            " seidel:    0.0017137519092061725\n",
            " gauss:   4.53302850937539e-14\n",
            "Число обусловленности: 0.007489415564017359\n",
            "Размерность: 50\n",
            "Ошибка:\n",
            " lu:    8.843314925815476e-14\n",
            " seidel:    0.00196514520788971\n",
            " gauss:   1.0541513539883162e-13\n",
            "Число обусловленности: 0.004959312188442398\n",
            "Размерность: 100\n",
            "Ошибка:\n",
            " lu:    3.802861173106236e-13\n",
            " seidel:    0.0007908016115588928\n",
            " gauss:   4.969094337608346e-13\n",
            "Число обусловленности: 0.002331002331002331\n",
            "Размерность: 150\n",
            "Ошибка:\n",
            " lu:    8.106412756885273e-13\n",
            " seidel:    0.0004951780632459767\n",
            " gauss:   1.095925885810122e-12\n",
            "Число обусловленности: 0.001547873016680505\n",
            "Размерность: 200\n",
            "Ошибка:\n",
            " lu:    1.6801018347280533e-12\n",
            " seidel:    0.0008130065081184374\n",
            " gauss:   1.971625473669868e-12\n",
            "Число обусловленности: 0.0011960964456020162\n",
            "Размерность: 250\n",
            "Ошибка:\n",
            " lu:    2.3780328667401025e-12\n",
            " seidel:    0.0010677398320402876\n",
            " gauss:   2.5721493113286994e-12\n",
            "Число обусловленности: 0.000953053914974323\n",
            "Размерность: 300\n",
            "Ошибка:\n",
            " lu:    3.0807588532648924e-12\n",
            " seidel:    0.0014004161931241784\n",
            " gauss:   3.943036084094503e-12\n",
            "Число обусловленности: 0.0008076279406345615\n",
            "Размерность: 350\n",
            "Ошибка:\n",
            " lu:    4.98134146137022e-12\n",
            " seidel:    0.001698860538348612\n",
            " gauss:   5.969077974693472e-12\n",
            "Число обусловленности: 0.0006720340916852368\n",
            "Размерность: 400\n",
            "Ошибка:\n",
            " lu:    6.2283098028018134e-12\n",
            " seidel:    0.0021522637688000286\n",
            " gauss:   7.065698441307469e-12\n",
            "Число обусловленности: 0.0005868490076483379\n",
            "Размерность: 450\n",
            "Ошибка:\n",
            " lu:    8.099486027740234e-12\n",
            " seidel:    0.0025767214583508505\n",
            " gauss:   8.693986013834576e-12\n",
            "Число обусловленности: 0.0005061545550276368\n",
            "Размерность: 500\n",
            "Ошибка:\n",
            " lu:    1.0275331264869428e-11\n",
            " seidel:    0.000570792601847737\n",
            " gauss:   1.1917046418975714e-11\n",
            "Число обусловленности: 0.00048449612403100775\n"
          ]
        },
        {
          "data": {
            "image/png": "[encoded data removed]",
            "text/plain": [
              "<Figure size 1600x600 with 3 Axes>"
            ]
          },
          "metadata": {},
          "output_type": "display_data"
        }
      ],
      "source": [
        "n = np.array([5, 10, 15, 20, 25, 30, 50, 100, 150, 200, 250, 300, 350, 400, 450, 500])\n",
        "cond, eps_lu, eps_seidel, eps_gauss = make_data_A(n)\n",
        "fig, (ax) =  plt.subplots(nrows = 1, ncols = 3)\n",
        "fig.set_figwidth(16)\n",
        "fig.set_figheight(6)\n",
        "ax[0].plot(n, cond, color = \"orange\")\n",
        "ax[2].plot(n, eps_lu, color = \"green\")\n",
        "ax[1].plot(n, eps_seidel, color = \"maroon\")\n",
        "ax[2].plot(n, eps_gauss, color = \"purple\")\n",
        "\n",
        "ax[0].set_title(\"Число обусловленности\")\n",
        "ax[1].set_title(\"Ошибка. Итерационные методы\")\n",
        "ax[2].set_title(\"Ошибка. Прямые методы\")\n",
        "plt.savefig(\"a\")"
      ]
    },
    {
      "cell_type": "code",
      "execution_count": 19,
      "metadata": {
        "id": "OPDSKf60o8v5"
      },
      "outputs": [],
      "source": [
        "# создание матрицы Гилберта\n",
        "def hilbert_matrix(n):\n",
        "  A = np.zeros((n, n))\n",
        "  for i in range(n):\n",
        "    for j in range(n):\n",
        "      A[i][j] = 1 / (i + j + 1)\n",
        "  return A\n",
        "\n",
        "def make_data_hilbert(n):\n",
        "  cond = []\n",
        "  eps_lu = []\n",
        "  eps_seidel = []\n",
        "  eps_gauss = []\n",
        "  for i in n:\n",
        "    A = hilbert_matrix(i)\n",
        "    cond.append(np.linalg.cond(A))\n",
        "    b = F(A)\n",
        "    lu = LU_slay(A, b)[0]\n",
        "    seidel = method_seidel(A, b, 0.01)[0]\n",
        "    gaus = gauss(A, b)[0]\n",
        "    print(i, lu, seidel, gauss)\n",
        "    eps_lu.append(eps(lu))\n",
        "    eps_seidel.append(eps(seidel))\n",
        "    eps_gauss.append(eps(gaus))\n",
        "  return cond, eps_lu, eps_seidel, eps_gauss"
      ]
    },
    {
      "cell_type": "code",
      "execution_count": 20,
      "metadata": {
        "colab": {
          "base_uri": "https://localhost:8080/",
          "height": 553
        },
        "id": "csuqs4MIp--k",
        "outputId": "f0e3f001-8158-4fe6-9cd9-a77a0c9c4cbe"
      },
      "outputs": [
        {
          "name": "stderr",
          "output_type": "stream",
          "text": [
            "C:\\Users\\ADMIN~1.COM\\AppData\\Local\\Temp/ipykernel_15568/917412857.py:26: RuntimeWarning: divide by zero encountered in double_scalars\n",
            "  x[k] = b[k] / A[k][k]\n",
            "C:\\Users\\ADMIN~1.COM\\AppData\\Local\\Temp/ipykernel_15568/917412857.py:28: RuntimeWarning: invalid value encountered in double_scalars\n",
            "  b[j] -= A[j][k] * x[k]\n",
            "C:\\Users\\ADMIN~1.COM\\AppData\\Local\\Temp/ipykernel_15568/917412857.py:18: RuntimeWarning: invalid value encountered in double_scalars\n",
            "  factor = A[i][k] / A[k][k]\n"
          ]
        },
        {
          "name": "stdout",
          "output_type": "stream",
          "text": [
            "5 [1. 2. 3. 4. 5.] [1.06789556 1.21061748 4.3371335  4.41190765 3.87929403] <function gauss at 0x0000021A9E4EE160>\n",
            "10 [ 1.          2.00000041  2.99999117  4.00008074  4.99961284  6.00106936\n",
            "  6.99823815  8.00170895  8.99909986 10.00019854] [0.9284778  3.13290351 0.56046981 3.56771515 6.05244678 7.52300429\n",
            " 8.22781521 8.43569708 8.34007338 8.06759294] <function gauss at 0x0000021A9E4EE160>\n",
            "15 [  0.99999959   2.00005317   2.99832201   4.02164944   4.86789569\n",
            "   6.3147835    7.69127469   0.70025864  33.57977005 -37.90422437\n",
            "  70.58461034 -35.90355561  37.01453381   7.22299534  15.81163341] [ 0.91409715  2.21402649  4.2740274   2.59776913  3.33759138  5.197523\n",
            "  7.22498092  9.00755252 10.41768204 11.45292834 12.15822748 12.59107258\n",
            " 12.80703499 12.85454942 12.77375878] <function gauss at 0x0000021A9E4EE160>\n",
            "20 [   0.99999377    2.00107228    2.95499673    4.80561472   -2.6318271\n",
            "   48.42307796 -137.91452169  313.49543271 -373.93700991  285.95947008\n",
            " -192.12130796  358.30660391 -340.04541154   41.11508392  173.26572062\n",
            "  -84.27071145  235.30990129 -360.91685351  276.99259216  -41.79192411] [ 1.12287961e+00 -6.18913386e-03  7.93456051e+00  4.08414634e+00\n",
            "  2.52580428e+00  3.20072136e+00  4.99877051e+00  7.16395431e+00\n",
            "  9.28994153e+00  1.11869283e+01  1.27843130e+01  1.40729686e+01\n",
            "  1.50731894e+01  1.58174861e+01  1.63416441e+01  1.66802967e+01\n",
            "  1.68649329e+01  1.69231907e+01  1.68788081e+01  1.67518871e+01] <function gauss at 0x0000021A9E4EE160>\n",
            "25 [   1.00000262    1.99948762    3.02387912    3.53115835    9.84563085\n",
            "  -23.42665721  118.0751004  -259.26954016  424.74642777 -434.13438173\n",
            "  425.19513616 -401.59197796  331.73922696 -199.65875523  332.54850286\n",
            " -205.3131484  -179.38159733  102.02543831  508.82081659 -522.54223279\n",
            "  231.52020483  -49.93308822   51.37927525   43.12396263   11.67712453] [ 1.20308096  0.3591807   4.25031277  6.65369849  5.88506069  5.01409172\n",
            "  4.96898904  5.74600464  7.09434439  8.75737442 10.53681758 12.29717715\n",
            " 13.9536669  15.4582432  16.7879438  17.93619183 18.90665841 19.70907201\n",
            " 20.35642637 20.86316225 21.24401421 21.51330489 21.68453686 21.77017936\n",
            " 21.78158065] <function gauss at 0x0000021A9E4EE160>\n",
            "30 [ 9.99999673e-01  2.00072470e+00  2.94313898e+00  5.48921734e+00\n",
            " -1.37023235e+01  1.36677113e+02 -5.34677641e+02  1.35088374e+03\n",
            " -1.87076142e+03  1.24805276e+03 -3.88840347e+02  1.08913229e+03\n",
            " -1.37076633e+03 -2.98552233e+02  5.18213653e+02  5.88282511e+02\n",
            "  1.04205201e+03 -1.76340248e+03  9.19867684e+01 -2.47502099e+02\n",
            "  4.02698918e+02  1.06454841e+03 -1.73795094e+03  2.64616139e+03\n",
            " -1.81142021e+03 -4.55928407e+02 -1.04842995e+02  1.82790601e+03\n",
            " -1.22765730e+03  2.72976059e+02] [ 1.06758578  2.26259079 -0.43769614  6.97369564  8.42037566  7.51212153\n",
            "  6.48199406  6.0942712   6.44840557  7.40909618  8.78914856 10.4173469\n",
            " 12.15795294 13.91144127 15.60898415 17.20571503 18.67460842 20.00149412\n",
            " 21.18121061 22.21473088 23.10706023 23.86572416 24.49969645 25.01865132\n",
            " 25.43245096 25.75080301 25.98303941 26.13798136 26.22386452 26.24830614] <function gauss at 0x0000021A9E4EE160>\n",
            "50 [ 9.99998462e-01  2.00018331e+00  2.99552506e+00  4.01888784e+00\n",
            "  5.51760183e+00 -2.16399870e+00  6.32448059e+01 -2.20451987e+02\n",
            "  5.97859048e+02 -9.40985761e+02  8.38163618e+02 -6.48850174e+01\n",
            " -4.86683026e+02  3.18185774e+02 -1.63211404e+02  4.74383940e+02\n",
            " -1.89883087e+02  2.63220847e+02 -9.73487979e+02  4.91867534e+02\n",
            " -4.71577798e+01  7.91876944e+02  2.54812659e+02 -9.17833057e+02\n",
            "  2.61444244e+02 -6.32669904e+02  4.41877264e+02  3.42375632e+02\n",
            " -2.60968691e+02 -1.41701589e+02  1.35345153e+03 -5.64295990e+02\n",
            " -2.89646095e+02 -2.46952135e+02 -1.33278136e+02  2.88088212e+02\n",
            " -1.66582835e+02  5.20871186e+02  4.77685954e+02 -2.56374299e+02\n",
            " -9.91300918e+02  4.74305786e+02  6.65668074e+02  5.82279181e+02\n",
            " -7.68884458e+02 -3.85151319e+02 -1.05275279e+02  9.68516845e+02\n",
            " -2.63124000e+02  2.23747305e+00] [ 0.83205319  2.88339896  5.10120233 -1.67127557  1.66027291  6.71395565\n",
            " 10.36278071 12.261087   12.88435115 12.79266196 12.42199939 12.05951223\n",
            " 11.87142621 11.93851276 12.28588599 12.90485762 13.76790004 14.8384273\n",
            " 16.07693248 17.44466154 18.90566819 20.42783121 21.98322504 23.5481019\n",
            " 25.10265307 26.63065663 28.11907851 29.55766757 30.93856821 32.2559631\n",
            " 33.50575176 34.68526627 35.79302336 36.82851022 37.79200099 38.68440072\n",
            " 39.50711336 40.26193072 40.9509396  41.57644445 42.14090328 42.64687491\n",
            " 43.09697578 43.49384482 43.84011514 44.13839139 44.39123193 44.60113498\n",
            " 44.77052803 44.90176007] <function gauss at 0x0000021A9E4EE160>\n"
          ]
        },
        {
          "ename": "KeyboardInterrupt",
          "evalue": "",
          "output_type": "error",
          "traceback": [
            "\u001b[1;31m---------------------------------------------------------------------------\u001b[0m",
            "\u001b[1;31mKeyboardInterrupt\u001b[0m                         Traceback (most recent call last)",
            "\u001b[1;32mC:\\Users\\ADMIN~1.COM\\AppData\\Local\\Temp/ipykernel_15568/2561880933.py\u001b[0m in \u001b[0;36m<module>\u001b[1;34m\u001b[0m\n\u001b[0;32m      1\u001b[0m \u001b[0mn\u001b[0m \u001b[1;33m=\u001b[0m \u001b[0mnp\u001b[0m\u001b[1;33m.\u001b[0m\u001b[0marray\u001b[0m\u001b[1;33m(\u001b[0m\u001b[1;33m[\u001b[0m\u001b[1;36m5\u001b[0m\u001b[1;33m,\u001b[0m \u001b[1;36m10\u001b[0m\u001b[1;33m,\u001b[0m \u001b[1;36m15\u001b[0m\u001b[1;33m,\u001b[0m \u001b[1;36m20\u001b[0m\u001b[1;33m,\u001b[0m \u001b[1;36m25\u001b[0m\u001b[1;33m,\u001b[0m \u001b[1;36m30\u001b[0m\u001b[1;33m,\u001b[0m \u001b[1;36m50\u001b[0m\u001b[1;33m,\u001b[0m \u001b[1;36m100\u001b[0m\u001b[1;33m,\u001b[0m \u001b[1;36m150\u001b[0m\u001b[1;33m]\u001b[0m\u001b[1;33m)\u001b[0m\u001b[1;33m\u001b[0m\u001b[1;33m\u001b[0m\u001b[0m\n\u001b[1;32m----> 2\u001b[1;33m \u001b[0mcond\u001b[0m\u001b[1;33m,\u001b[0m \u001b[0meps_lu\u001b[0m\u001b[1;33m,\u001b[0m \u001b[0meps_seidel\u001b[0m\u001b[1;33m,\u001b[0m \u001b[0meps_gauss\u001b[0m \u001b[1;33m=\u001b[0m \u001b[0mmake_data_hilbert\u001b[0m\u001b[1;33m(\u001b[0m\u001b[0mn\u001b[0m\u001b[1;33m)\u001b[0m\u001b[1;33m\u001b[0m\u001b[1;33m\u001b[0m\u001b[0m\n\u001b[0m\u001b[0;32m      3\u001b[0m \u001b[0mfig\u001b[0m\u001b[1;33m,\u001b[0m \u001b[1;33m(\u001b[0m\u001b[0max\u001b[0m\u001b[1;33m)\u001b[0m \u001b[1;33m=\u001b[0m  \u001b[0mplt\u001b[0m\u001b[1;33m.\u001b[0m\u001b[0msubplots\u001b[0m\u001b[1;33m(\u001b[0m\u001b[0mnrows\u001b[0m \u001b[1;33m=\u001b[0m \u001b[1;36m1\u001b[0m\u001b[1;33m,\u001b[0m \u001b[0mncols\u001b[0m \u001b[1;33m=\u001b[0m \u001b[1;36m3\u001b[0m\u001b[1;33m)\u001b[0m\u001b[1;33m\u001b[0m\u001b[1;33m\u001b[0m\u001b[0m\n\u001b[0;32m      4\u001b[0m \u001b[0mfig\u001b[0m\u001b[1;33m.\u001b[0m\u001b[0mset_figwidth\u001b[0m\u001b[1;33m(\u001b[0m\u001b[1;36m16\u001b[0m\u001b[1;33m)\u001b[0m\u001b[1;33m\u001b[0m\u001b[1;33m\u001b[0m\u001b[0m\n\u001b[0;32m      5\u001b[0m \u001b[0mfig\u001b[0m\u001b[1;33m.\u001b[0m\u001b[0mset_figheight\u001b[0m\u001b[1;33m(\u001b[0m\u001b[1;36m6\u001b[0m\u001b[1;33m)\u001b[0m\u001b[1;33m\u001b[0m\u001b[1;33m\u001b[0m\u001b[0m\n",
            "\u001b[1;32mC:\\Users\\ADMIN~1.COM\\AppData\\Local\\Temp/ipykernel_15568/1352324373.py\u001b[0m in \u001b[0;36mmake_data_hilbert\u001b[1;34m(n)\u001b[0m\n\u001b[0;32m     17\u001b[0m     \u001b[0mb\u001b[0m \u001b[1;33m=\u001b[0m \u001b[0mF\u001b[0m\u001b[1;33m(\u001b[0m\u001b[0mA\u001b[0m\u001b[1;33m)\u001b[0m\u001b[1;33m\u001b[0m\u001b[1;33m\u001b[0m\u001b[0m\n\u001b[0;32m     18\u001b[0m     \u001b[0mlu\u001b[0m \u001b[1;33m=\u001b[0m \u001b[0mLU_slay\u001b[0m\u001b[1;33m(\u001b[0m\u001b[0mA\u001b[0m\u001b[1;33m,\u001b[0m \u001b[0mb\u001b[0m\u001b[1;33m)\u001b[0m\u001b[1;33m[\u001b[0m\u001b[1;36m0\u001b[0m\u001b[1;33m]\u001b[0m\u001b[1;33m\u001b[0m\u001b[1;33m\u001b[0m\u001b[0m\n\u001b[1;32m---> 19\u001b[1;33m     \u001b[0mseidel\u001b[0m \u001b[1;33m=\u001b[0m \u001b[0mmethod_seidel\u001b[0m\u001b[1;33m(\u001b[0m\u001b[0mA\u001b[0m\u001b[1;33m,\u001b[0m \u001b[0mb\u001b[0m\u001b[1;33m,\u001b[0m \u001b[1;36m0.01\u001b[0m\u001b[1;33m)\u001b[0m\u001b[1;33m[\u001b[0m\u001b[1;36m0\u001b[0m\u001b[1;33m]\u001b[0m\u001b[1;33m\u001b[0m\u001b[1;33m\u001b[0m\u001b[0m\n\u001b[0m\u001b[0;32m     20\u001b[0m     \u001b[0mgaus\u001b[0m \u001b[1;33m=\u001b[0m \u001b[0mgauss\u001b[0m\u001b[1;33m(\u001b[0m\u001b[0mA\u001b[0m\u001b[1;33m,\u001b[0m \u001b[0mb\u001b[0m\u001b[1;33m)\u001b[0m\u001b[1;33m[\u001b[0m\u001b[1;36m0\u001b[0m\u001b[1;33m]\u001b[0m\u001b[1;33m\u001b[0m\u001b[1;33m\u001b[0m\u001b[0m\n\u001b[0;32m     21\u001b[0m     \u001b[0mprint\u001b[0m\u001b[1;33m(\u001b[0m\u001b[0mi\u001b[0m\u001b[1;33m,\u001b[0m \u001b[0mlu\u001b[0m\u001b[1;33m,\u001b[0m \u001b[0mseidel\u001b[0m\u001b[1;33m,\u001b[0m \u001b[0mgauss\u001b[0m\u001b[1;33m)\u001b[0m\u001b[1;33m\u001b[0m\u001b[1;33m\u001b[0m\u001b[0m\n",
            "\u001b[1;32mC:\\Users\\ADMIN~1.COM\\AppData\\Local\\Temp/ipykernel_15568/917412857.py\u001b[0m in \u001b[0;36mmethod_seidel\u001b[1;34m(A, b, eps)\u001b[0m\n\u001b[0;32m     83\u001b[0m     \u001b[0mx_new\u001b[0m \u001b[1;33m=\u001b[0m \u001b[0mnp\u001b[0m\u001b[1;33m.\u001b[0m\u001b[0mcopy\u001b[0m\u001b[1;33m(\u001b[0m\u001b[0mx\u001b[0m\u001b[1;33m)\u001b[0m\u001b[1;33m\u001b[0m\u001b[1;33m\u001b[0m\u001b[0m\n\u001b[0;32m     84\u001b[0m     \u001b[1;32mfor\u001b[0m \u001b[0mi\u001b[0m \u001b[1;32min\u001b[0m \u001b[0mrange\u001b[0m\u001b[1;33m(\u001b[0m\u001b[0mn\u001b[0m\u001b[1;33m)\u001b[0m\u001b[1;33m:\u001b[0m\u001b[1;33m\u001b[0m\u001b[1;33m\u001b[0m\u001b[0m\n\u001b[1;32m---> 85\u001b[1;33m       \u001b[0msum1\u001b[0m \u001b[1;33m=\u001b[0m \u001b[0msum\u001b[0m\u001b[1;33m(\u001b[0m\u001b[0mA\u001b[0m\u001b[1;33m[\u001b[0m\u001b[0mi\u001b[0m\u001b[1;33m]\u001b[0m\u001b[1;33m[\u001b[0m\u001b[0mj\u001b[0m\u001b[1;33m]\u001b[0m \u001b[1;33m*\u001b[0m \u001b[0mx_new\u001b[0m\u001b[1;33m[\u001b[0m\u001b[0mj\u001b[0m\u001b[1;33m]\u001b[0m \u001b[1;32mfor\u001b[0m \u001b[0mj\u001b[0m \u001b[1;32min\u001b[0m \u001b[0mrange\u001b[0m\u001b[1;33m(\u001b[0m\u001b[0mi\u001b[0m\u001b[1;33m)\u001b[0m\u001b[1;33m)\u001b[0m\u001b[1;33m\u001b[0m\u001b[1;33m\u001b[0m\u001b[0m\n\u001b[0m\u001b[0;32m     86\u001b[0m       \u001b[0msum2\u001b[0m \u001b[1;33m=\u001b[0m \u001b[0msum\u001b[0m\u001b[1;33m(\u001b[0m\u001b[0mA\u001b[0m\u001b[1;33m[\u001b[0m\u001b[0mi\u001b[0m\u001b[1;33m]\u001b[0m\u001b[1;33m[\u001b[0m\u001b[0mj\u001b[0m\u001b[1;33m]\u001b[0m \u001b[1;33m*\u001b[0m \u001b[0mx\u001b[0m\u001b[1;33m[\u001b[0m\u001b[0mj\u001b[0m\u001b[1;33m]\u001b[0m \u001b[1;32mfor\u001b[0m \u001b[0mj\u001b[0m \u001b[1;32min\u001b[0m \u001b[0mrange\u001b[0m\u001b[1;33m(\u001b[0m\u001b[0mi\u001b[0m \u001b[1;33m+\u001b[0m \u001b[1;36m1\u001b[0m\u001b[1;33m,\u001b[0m \u001b[0mn\u001b[0m\u001b[1;33m)\u001b[0m\u001b[1;33m)\u001b[0m\u001b[1;33m\u001b[0m\u001b[1;33m\u001b[0m\u001b[0m\n\u001b[0;32m     87\u001b[0m       \u001b[0mx_new\u001b[0m\u001b[1;33m[\u001b[0m\u001b[0mi\u001b[0m\u001b[1;33m]\u001b[0m \u001b[1;33m=\u001b[0m \u001b[1;33m(\u001b[0m\u001b[0mb\u001b[0m\u001b[1;33m[\u001b[0m\u001b[0mi\u001b[0m\u001b[1;33m]\u001b[0m \u001b[1;33m-\u001b[0m \u001b[0msum1\u001b[0m \u001b[1;33m-\u001b[0m \u001b[0msum2\u001b[0m\u001b[1;33m)\u001b[0m \u001b[1;33m/\u001b[0m \u001b[0mA\u001b[0m\u001b[1;33m[\u001b[0m\u001b[0mi\u001b[0m\u001b[1;33m]\u001b[0m\u001b[1;33m[\u001b[0m\u001b[0mi\u001b[0m\u001b[1;33m]\u001b[0m\u001b[1;33m\u001b[0m\u001b[1;33m\u001b[0m\u001b[0m\n",
            "\u001b[1;32mC:\\Users\\ADMIN~1.COM\\AppData\\Local\\Temp/ipykernel_15568/917412857.py\u001b[0m in \u001b[0;36m<genexpr>\u001b[1;34m(.0)\u001b[0m\n\u001b[0;32m     83\u001b[0m     \u001b[0mx_new\u001b[0m \u001b[1;33m=\u001b[0m \u001b[0mnp\u001b[0m\u001b[1;33m.\u001b[0m\u001b[0mcopy\u001b[0m\u001b[1;33m(\u001b[0m\u001b[0mx\u001b[0m\u001b[1;33m)\u001b[0m\u001b[1;33m\u001b[0m\u001b[1;33m\u001b[0m\u001b[0m\n\u001b[0;32m     84\u001b[0m     \u001b[1;32mfor\u001b[0m \u001b[0mi\u001b[0m \u001b[1;32min\u001b[0m \u001b[0mrange\u001b[0m\u001b[1;33m(\u001b[0m\u001b[0mn\u001b[0m\u001b[1;33m)\u001b[0m\u001b[1;33m:\u001b[0m\u001b[1;33m\u001b[0m\u001b[1;33m\u001b[0m\u001b[0m\n\u001b[1;32m---> 85\u001b[1;33m       \u001b[0msum1\u001b[0m \u001b[1;33m=\u001b[0m \u001b[0msum\u001b[0m\u001b[1;33m(\u001b[0m\u001b[0mA\u001b[0m\u001b[1;33m[\u001b[0m\u001b[0mi\u001b[0m\u001b[1;33m]\u001b[0m\u001b[1;33m[\u001b[0m\u001b[0mj\u001b[0m\u001b[1;33m]\u001b[0m \u001b[1;33m*\u001b[0m \u001b[0mx_new\u001b[0m\u001b[1;33m[\u001b[0m\u001b[0mj\u001b[0m\u001b[1;33m]\u001b[0m \u001b[1;32mfor\u001b[0m \u001b[0mj\u001b[0m \u001b[1;32min\u001b[0m \u001b[0mrange\u001b[0m\u001b[1;33m(\u001b[0m\u001b[0mi\u001b[0m\u001b[1;33m)\u001b[0m\u001b[1;33m)\u001b[0m\u001b[1;33m\u001b[0m\u001b[1;33m\u001b[0m\u001b[0m\n\u001b[0m\u001b[0;32m     86\u001b[0m       \u001b[0msum2\u001b[0m \u001b[1;33m=\u001b[0m \u001b[0msum\u001b[0m\u001b[1;33m(\u001b[0m\u001b[0mA\u001b[0m\u001b[1;33m[\u001b[0m\u001b[0mi\u001b[0m\u001b[1;33m]\u001b[0m\u001b[1;33m[\u001b[0m\u001b[0mj\u001b[0m\u001b[1;33m]\u001b[0m \u001b[1;33m*\u001b[0m \u001b[0mx\u001b[0m\u001b[1;33m[\u001b[0m\u001b[0mj\u001b[0m\u001b[1;33m]\u001b[0m \u001b[1;32mfor\u001b[0m \u001b[0mj\u001b[0m \u001b[1;32min\u001b[0m \u001b[0mrange\u001b[0m\u001b[1;33m(\u001b[0m\u001b[0mi\u001b[0m \u001b[1;33m+\u001b[0m \u001b[1;36m1\u001b[0m\u001b[1;33m,\u001b[0m \u001b[0mn\u001b[0m\u001b[1;33m)\u001b[0m\u001b[1;33m)\u001b[0m\u001b[1;33m\u001b[0m\u001b[1;33m\u001b[0m\u001b[0m\n\u001b[0;32m     87\u001b[0m       \u001b[0mx_new\u001b[0m\u001b[1;33m[\u001b[0m\u001b[0mi\u001b[0m\u001b[1;33m]\u001b[0m \u001b[1;33m=\u001b[0m \u001b[1;33m(\u001b[0m\u001b[0mb\u001b[0m\u001b[1;33m[\u001b[0m\u001b[0mi\u001b[0m\u001b[1;33m]\u001b[0m \u001b[1;33m-\u001b[0m \u001b[0msum1\u001b[0m \u001b[1;33m-\u001b[0m \u001b[0msum2\u001b[0m\u001b[1;33m)\u001b[0m \u001b[1;33m/\u001b[0m \u001b[0mA\u001b[0m\u001b[1;33m[\u001b[0m\u001b[0mi\u001b[0m\u001b[1;33m]\u001b[0m\u001b[1;33m[\u001b[0m\u001b[0mi\u001b[0m\u001b[1;33m]\u001b[0m\u001b[1;33m\u001b[0m\u001b[1;33m\u001b[0m\u001b[0m\n",
            "\u001b[1;31mKeyboardInterrupt\u001b[0m: "
          ]
        }
      ],
      "source": [
        "n = np.array([5, 10, 15, 20, 25, 30, 50, 100, 150])\n",
        "cond, eps_lu, eps_seidel, eps_gauss = make_data_hilbert(n)\n",
        "fig, (ax) =  plt.subplots(nrows = 1, ncols = 3)\n",
        "fig.set_figwidth(16)\n",
        "fig.set_figheight(6)\n",
        "ax[0].plot(n, cond, color = \"orange\")\n",
        "ax[2].plot(n, eps_lu, color = \"green\")\n",
        "ax[1].plot(n, eps_seidel, color = \"maroon\")\n",
        "ax[2].plot(n, eps_gauss, color = \"purple\")\n",
        "\n",
        "ax[0].set_title(\"Число обусловленности\")\n",
        "ax[1].set_title(\"Ошибка. Итерационные методы\")\n",
        "ax[2].set_title(\"Ошибка. Прямые методы\")\n",
        "plt.savefig(\"hilbert\")"
      ]
    },
    {
      "cell_type": "markdown",
      "metadata": {
        "id": "86LuQGUgdXpe"
      },
      "source": [
        "### Сравнение эффективности"
      ]
    },
    {
      "cell_type": "code",
      "execution_count": null,
      "metadata": {
        "id": "XfMzu_pFdYC2"
      },
      "outputs": [],
      "source": [
        "def efficacy():\n",
        "    #n = np.array([10, 50, 100, 1000, 10000, 100000])\n",
        "    n = np.array([10, 50, 100, 150, 200, 500, 1000])\n",
        "    lu = []\n",
        "    seidel = []\n",
        "    gaus = []\n",
        "    \n",
        "    for i in n:\n",
        "        A = matrix_A(i)\n",
        "        b = F(A)\n",
        "        lu.append(LU_slay(A, b)[1])\n",
        "        seidel.append(method_seidel(A, b, 0.01)[1])\n",
        "        gaus.append(gauss(A, b)[1])\n",
        "\n",
        "    fig, (ax) =  plt.subplots(nrows = 1, ncols = 3)\n",
        "    fig.set_figwidth(16)\n",
        "    fig.set_figheight(9)\n",
        "    ax[0].plot(n, lu, color = \"orange\")\n",
        "    ax[1].plot(n, seidel, color = \"green\")\n",
        "    ax[2].plot(n, gaus, color = \"maroon\")\n",
        "    ax[0].set_title(\"LU-разложение\")\n",
        "    ax[1].set_title(\"Метод Зейделя\")\n",
        "    ax[2].set_title(\"Метод Гаусса\")\n",
        "\n",
        "efficacy()"
      ]
    }
  ],
  "metadata": {
    "colab": {
      "collapsed_sections": [
        "86LuQGUgdXpe"
      ],
      "provenance": []
    },
    "kernelspec": {
      "display_name": "base",
      "language": "python",
      "name": "python3"
    },
    "language_info": {
      "codemirror_mode": {
        "name": "ipython",
        "version": 3
      },
      "file_extension": ".py",
      "mimetype": "text/x-python",
      "name": "python",
      "nbconvert_exporter": "python",
      "pygments_lexer": "ipython3",
      "version": "3.9.7"
    },
    "vscode": {
      "interpreter": {
        "hash": "88279d2366fe020547cde40dd65aa0e3aa662a6ec1f3ca12d88834876c85e1a6"
      }
    }
  },
  "nbformat": 4,
  "nbformat_minor": 0
}
