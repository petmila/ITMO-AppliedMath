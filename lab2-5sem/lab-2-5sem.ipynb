{
 "cells": [
  {
   "attachments": {},
   "cell_type": "markdown",
   "metadata": {},
   "source": [
    "### Лабораторная работа №2. Теория игр\n",
    "Выполнили студенты: Петренко Людмила М33001, Кусайкина Елизавета М33001, Шалимов Иван М33021"
   ]
  },
  {
   "cell_type": "code",
   "execution_count": 1,
   "metadata": {},
   "outputs": [],
   "source": [
    "import numpy as np\n",
    "import matplotlib.pyplot as plt\n",
    "import json\n",
    "import simplex"
   ]
  },
  {
   "attachments": {},
   "cell_type": "markdown",
   "metadata": {},
   "source": [
    "**Матричная игра** с нулевой суммой задается прямоугольной матрицей, которая содержит стратегии 1ого игрока в строках и стратегии 2ого игрока в столбцах. Такая матрица однозначно определяет игру. Каждый элемент a[i][j] матрицы представляет собой сумму выигрыша, уплачиваемую игроком 1 игроку 2, если 1ый выбирает стратегию, соответствующую i-й строке, а 2ой выбирает стратегию, соответствующую j-му столбцу.\n",
    "\n",
    "**Чистые стратегии** - это возможные ходы игроков, выбираемые ими с вероятностью 1.\n",
    "\n",
    "**Нижняя чистая цена игры (максимин)** - \n",
    "\n",
    "**Верхняя чистая цена игры (минимакс)** - \n",
    "\n",
    "\n",
    "**Смешанные стратегии** - "
   ]
  },
  {
   "attachments": {},
   "cell_type": "markdown",
   "metadata": {},
   "source": [
    "#### Решение матричной игры\n",
    "* Матрица игры может быть упрощена с помощью удаления **доминируемых стратегий**. Стратегия i игрока 1 **доминирует** стратегию j игрока 1 если для всех чистых стратегий игрока 2 его выигрыш при стратегии i больше или равен выигрышу при стратегии j. В таком случае стратегию j можно вычеркнуть, поскольку она точно не будет использована.\n",
    "\n",
    "* После упрощения у каждого игрока может остаться по одной стратегии - в таком случае решение игры найдено.\n",
    "\n",
    "* Чистые стратегии выбираются так, чтобы первый игрок максимизировал свой возможный выигрыш, а второй - минимизировал свой возможный проигрыш. Если для пары чистых стратегий минимакс и максимин совпадают, то эта пара стратегий - седловая точка игры, а максимин и минимакс - чистая цена игры. Данная игра является разрешимой в чистых стратегиях.\n",
    "\n",
    "* \n",
    "\n",
    "Согласно теореме фон Неймана, изменение всех значений матрицы на одно и то же число повлияет только на цену игры, но не на ее решение."
   ]
  },
  {
   "cell_type": "code",
   "execution_count": 107,
   "metadata": {},
   "outputs": [],
   "source": [
    "class Game:\n",
    "    def __init__(self):\n",
    "        self.matrix: np.array()\n",
    "        self.simplify_flag = 1\n",
    "        self.gamer = 'a'\n",
    "\n",
    "    def load_data_from_json(self, filename: str) -> None:\n",
    "        with open(filename) as f:\n",
    "            data = json.load(f)\n",
    "        self.gamer = data[\"gamer\"]\n",
    "        self.matrix = [[\n",
    "            data['a ' + str(i)]['b ' + str(j)] for j in range(1, len(data['a ' + str(i)]) + 1)]\n",
    "                for i in range(1, len(data))]\n",
    "        self.original_matrix = np.copy(self.matrix)\n",
    "        while self.simplify_flag:\n",
    "            self.simplify_flag = self.simplify_matrix()\n",
    "\n",
    "    def simplify_matrix(self, simplify_flag = 0):\n",
    "        # удаление доминируемых стратегий игрока a\n",
    "        for i in range(len(self.matrix)):\n",
    "            for k in range(len(self.matrix)):\n",
    "                if k == i:\n",
    "                    continue\n",
    "                if k >= len(self.matrix) or i >= len(self.matrix):\n",
    "                    break\n",
    "                number = 0\n",
    "                for j in range(len(self.matrix[i])):\n",
    "                    if self.matrix[i][j] <= self.matrix[k][j]:\n",
    "                        number += 1\n",
    "                if number == len(self.matrix[i]):\n",
    "                    self.matrix = self.matrix[:i] + self.matrix[i + 1:]\n",
    "                    simplify_flag = 1\n",
    "        \n",
    "        # удаление доминируемых стратегий игрока b\n",
    "        for k in range(len(self.matrix[0])):\n",
    "            for j in range(len(self.matrix[0])):\n",
    "                number = 0\n",
    "                if k == j:\n",
    "                    continue\n",
    "                if k >= len(self.matrix[0]) or j >= len(self.matrix[0]):\n",
    "                    break\n",
    "                for i in range(len(self.matrix)):\n",
    "                    if self.matrix[i][j] <= self.matrix[i][k]:\n",
    "                        number += 1\n",
    "                if number == len(self.matrix):\n",
    "                    for i in range(len(self.matrix)):\n",
    "                        self.matrix[i] = self.matrix[i][:j] + self.matrix[i][j + 1:]\n",
    "                    simplify_flag = 1\n",
    "        return simplify_flag\n",
    "    \n",
    "    def solve(self):\n",
    "        result = None#self.check_for_clean_strategies()\n",
    "        if result is not None:\n",
    "            if result < 0:\n",
    "                if self.gamer == 'a':\n",
    "                    self.gamer = 'b'\n",
    "                else:\n",
    "                    self.gamer = 'a'\n",
    "                result = -result\n",
    "            print(f\"Решение в чистых стратегиях: \\nигрок {self.gamer} победил с выигрышем {result}\")\n",
    "            return self.gamer, result\n",
    "        \n",
    "        print(\"Стратегии, оптимальные по Парето: \\n\", self.optimal_pareto())\n",
    "        # else:\n",
    "        #     print(\"Решения в чистых стратегиях не существует\")\n",
    "        \n",
    "    def optimal_pareto(self):\n",
    "        return 'a'\n",
    "\n",
    "    def check_for_clean_strategies(self):\n",
    "        if len(self.matrix) == 1 and len(self.matrix[0]) == 1:\n",
    "           return self.matrix[0][0]\n",
    "        \n",
    "        self.minimax = min([max([self.matrix[i][j] for i in range(len(self.matrix))]) for j in range(len(self.matrix[0]))])\n",
    "        self.maximin = max([min([self.matrix[i][j] for j in range(len(self.matrix[i]))]) for i in range(len(self.matrix))])\n",
    "\n",
    "        print(self.maximin, self.minimax)\n",
    "\n",
    "        if self.maximin == self.maximin:\n",
    "            return self.minimax"
   ]
  },
  {
   "cell_type": "code",
   "execution_count": 108,
   "metadata": {},
   "outputs": [
    {
     "name": "stdout",
     "output_type": "stream",
     "text": [
      "Стратегии, оптимальные по Парето:\n",
      " a\n"
     ]
    }
   ],
   "source": [
    "game = Game()\n",
    "game.load_data_from_json(\"data.json\")\n",
    "game.solve()\n"
   ]
  }
 ],
 "metadata": {
  "kernelspec": {
   "display_name": "base",
   "language": "python",
   "name": "python3"
  },
  "language_info": {
   "codemirror_mode": {
    "name": "ipython",
    "version": 3
   },
   "file_extension": ".py",
   "mimetype": "text/x-python",
   "name": "python",
   "nbconvert_exporter": "python",
   "pygments_lexer": "ipython3",
   "version": "3.9.7"
  },
  "orig_nbformat": 4,
  "vscode": {
   "interpreter": {
    "hash": "88279d2366fe020547cde40dd65aa0e3aa662a6ec1f3ca12d88834876c85e1a6"
   }
  }
 },
 "nbformat": 4,
 "nbformat_minor": 2
}
