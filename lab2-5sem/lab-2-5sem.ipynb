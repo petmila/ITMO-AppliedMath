{
 "cells": [
  {
   "attachments": {},
   "cell_type": "markdown",
   "metadata": {},
   "source": [
    "### Лабораторная работа №2. Теория игр\n",
    "Выполнили студенты: Петренко Людмила М33001, Кусайкина Елизавета М33001, Шалимов Иван М33021"
   ]
  },
  {
   "cell_type": "code",
   "execution_count": 39,
   "metadata": {},
   "outputs": [],
   "source": [
    "import numpy as np\n",
    "import matplotlib.pyplot as plt\n",
    "import json\n",
    "import simplex__lab_1 as simplex"
   ]
  },
  {
   "cell_type": "code",
   "execution_count": 75,
   "metadata": {},
   "outputs": [],
   "source": [
    "class Game:\n",
    "    def __init__(self):\n",
    "        self.matrix: np.array()\n",
    "        self.simplify_flag = 1\n",
    "        self.gamer = 'a'\n",
    "        self.beta = 0\n",
    "        self.optimal_a = []\n",
    "        self.optimal_b = []\n",
    "\n",
    "    def load_data_from_json(self, filename: str) -> None:\n",
    "        with open(filename) as f:\n",
    "            data = json.load(f)\n",
    "        self.gamer = data[\"gamer\"]\n",
    "        self.matrix = [[\n",
    "            data['a ' + str(i)]['b ' + str(j)] for j in range(1, len(data['a ' + str(i)]) + 1)]\n",
    "                for i in range(1, len(data))]\n",
    "        self.original_matrix = np.copy(self.matrix)\n",
    "        while self.simplify_flag:\n",
    "            self.simplify_flag = self.simplify_matrix()\n",
    "\n",
    "    def simplify_matrix(self, simplify_flag = 0):\n",
    "        # удаление доминируемых стратегий игрока a\n",
    "        for i in range(len(self.matrix)):\n",
    "            for k in range(len(self.matrix)):\n",
    "                if k == i:\n",
    "                    continue\n",
    "                if k >= len(self.matrix) or i >= len(self.matrix):\n",
    "                    break\n",
    "                number = 0\n",
    "                for j in range(len(self.matrix[i])):\n",
    "                    if self.matrix[i][j] <= self.matrix[k][j]:\n",
    "                        number += 1\n",
    "                if number == len(self.matrix[i]):\n",
    "                    self.matrix = self.matrix[:i] + self.matrix[i + 1:]\n",
    "                    simplify_flag = 1\n",
    "        \n",
    "        # удаление доминируемых стратегий игрока b\n",
    "        for k in range(len(self.matrix[0])):\n",
    "            for j in range(len(self.matrix[0])):\n",
    "                number = 0\n",
    "                if k == j:\n",
    "                    continue\n",
    "                if k >= len(self.matrix[0]) or j >= len(self.matrix[0]):\n",
    "                    break\n",
    "                for i in range(len(self.matrix)):\n",
    "                    if self.matrix[i][j] <= self.matrix[i][k]:\n",
    "                        number += 1\n",
    "                if number == len(self.matrix):\n",
    "                    for i in range(len(self.matrix)):\n",
    "                        self.matrix[i] = self.matrix[i][:j] + self.matrix[i][j + 1:]\n",
    "                    simplify_flag = 1\n",
    "        return simplify_flag\n",
    "    \n",
    "    def solve(self):\n",
    "        result = self.check_for_clean_strategies()\n",
    "        if result is not None:\n",
    "            if result < 0:\n",
    "                if self.gamer == 'a':\n",
    "                    self.gamer = 'b'\n",
    "                else:\n",
    "                    self.gamer = 'a'\n",
    "                result = -result\n",
    "            print(f\"Решение в чистых стратегиях: \\nигрок {self.gamer} победил, цена игры = {result}\")\n",
    "            print(f\"Оптимальные чистые стратегии: \\nпервый игрок = {self.optimal_a}, второй игрок = {self.optimal_b}\")\n",
    "        else:\n",
    "            print(\"Оптимальные чистые стратегии: Нет таких\")\n",
    "    \n",
    "        # решение прямой задачи\n",
    "        self._make_matrix_positive()\n",
    "        transponent_matrix = self.matrix.T\n",
    "        \n",
    "        constraints = [{' coefs ': transponent_matrix[i].tolist() , ' type ': 'gte', ' b ': 1} for i in range(len(transponent_matrix))]\n",
    "        data = {' f ': [1 for i in range(len(transponent_matrix[0]))] ,\n",
    "                ' goal ': 'min' ,\n",
    "                ' constraints ': constraints}\n",
    " \n",
    "        with open('simplex_data.json', 'w') as file:\n",
    "            json.dump(data, file)\n",
    "\n",
    "        task_x = simplex.LinearTask()\n",
    "        task_x.load_data_from_json('simplex_data.json')\n",
    "        teta_x, x_ = task_x.solve()\n",
    "\n",
    "        # решение двойственной задачи\n",
    "        constraints = [{' coefs ': self.matrix[i].tolist() , ' type ': 'lte' , ' b ': 1} for i in range(len(self.matrix))]\n",
    "        data = {' f ': [1 for i in range(len(self.matrix[0]))] ,\n",
    "                ' goal ': 'max' ,\n",
    "                ' constraints ': constraints}\n",
    " \n",
    "        with open('simplex_data.json', 'w') as file:\n",
    "            json.dump(data, file)\n",
    "\n",
    "        task_y = simplex.LinearTask()\n",
    "        task_y.load_data_from_json('simplex_data.json')\n",
    "        teta_y, y_ = task_y.solve()\n",
    "        \n",
    "        strategies_x = np.array(x_)/teta_x\n",
    "        strategies_y = np.array(y_)/teta_y\n",
    "\n",
    "        print(f'Стратегия первого игрока: {strategies_x},\\n Стратегия второго игрока: {strategies_y}')\n",
    "\n",
    "        print(f'Цена игры: {1/teta_x - self.beta}')\n",
    "\n",
    "    \n",
    "    def _make_matrix_positive(self):\n",
    "        self.beta = np.amin(self.matrix)\n",
    "        self.matrix = np.add(self.matrix, self.beta)\n",
    "\n",
    "    def check_for_clean_strategies(self):\n",
    "        if len(self.matrix) == 1 and len(self.matrix[0]) == 1:\n",
    "           return self.matrix[0][0]\n",
    "        \n",
    "        row = []\n",
    "        for j in range(len(self.matrix[0])):\n",
    "            column = [self.matrix[i][j] for i in range(len(self.matrix))]\n",
    "            i = column.index(max(column))\n",
    "            row.append(max(column))\n",
    "        j = row.index(min(row))\n",
    "        self.minimax = self.matrix[i][j]\n",
    "\n",
    "        column = []\n",
    "        for i in range(len(self.matrix)):\n",
    "            row = [self.matrix[i][j] for j in range(len(self.matrix[0]))]\n",
    "            j = row.index(min(row))\n",
    "            column.append(min(row))\n",
    "        i = column.index(max(column))\n",
    "        self.maximin = self.matrix[i][j]\n",
    "        print(\"Maximin: \", self.maximin, \"\\nMinimax: \", self.minimax)\n",
    "\n",
    "        if self.maximin == self.minimax:\n",
    "            self.optimal_a, self.optimal_b = self.matrix[i], [self.matrix[i_][j] for i_ in range(len(self.matrix))]\n",
    "            return self.minimax"
   ]
  },
  {
   "attachments": {},
   "cell_type": "markdown",
   "metadata": {},
   "source": [
    "#### Примеры результатов"
   ]
  },
  {
   "cell_type": "code",
   "execution_count": 66,
   "metadata": {},
   "outputs": [
    {
     "name": "stdout",
     "output_type": "stream",
     "text": [
      "Maximin:  2 \n",
      "Minimax:  3\n",
      "Оптимальные чистые стратегии: Нет таких\n",
      "Стратегия первого игрока: [0.2 0.8],\n",
      " Стратегия второго игрока: [0.6 0.4]\n",
      "Цена игры: 2.4000000000000004\n"
     ]
    }
   ],
   "source": [
    "game = Game()\n",
    "game.load_data_from_json(\"example.json\")\n",
    "game.solve()"
   ]
  },
  {
   "cell_type": "code",
   "execution_count": 70,
   "metadata": {},
   "outputs": [
    {
     "name": "stdout",
     "output_type": "stream",
     "text": [
      "Maximin:  8 \n",
      "Minimax:  7\n",
      "Оптимальные чистые стратегии: Нет таких\n",
      "Стратегия первого игрока: [0.         0.33333333 0.66666667],\n",
      " Стратегия второго игрока: [0.33333333 0.66666667]\n",
      "Цена игры: 6.666666666666673\n"
     ]
    }
   ],
   "source": [
    "game = Game()\n",
    "game.load_data_from_json(\"example1.json\")\n",
    "game.solve()"
   ]
  },
  {
   "cell_type": "code",
   "execution_count": 76,
   "metadata": {},
   "outputs": [
    {
     "name": "stdout",
     "output_type": "stream",
     "text": [
      "Maximin:  6 \n",
      "Minimax:  6\n",
      "Решение в чистых стратегиях: \n",
      "игрок a победил, цена игры = 6\n",
      "Оптимальные чистые стратегии: \n",
      "первый игрок = [7, 6, 8, 9], второй игрок = [5, 4, 6]\n"
     ]
    },
    {
     "data": {
      "text/plain": [
       "('a', 6)"
      ]
     },
     "execution_count": 76,
     "metadata": {},
     "output_type": "execute_result"
    }
   ],
   "source": [
    "game = Game()\n",
    "game.load_data_from_json(\"example2.json\")\n",
    "game.solve()"
   ]
  }
 ],
 "metadata": {
  "kernelspec": {
   "display_name": "base",
   "language": "python",
   "name": "python3"
  },
  "language_info": {
   "codemirror_mode": {
    "name": "ipython",
    "version": 3
   },
   "file_extension": ".py",
   "mimetype": "text/x-python",
   "name": "python",
   "nbconvert_exporter": "python",
   "pygments_lexer": "ipython3",
   "version": "3.9.7"
  },
  "orig_nbformat": 4,
  "vscode": {
   "interpreter": {
    "hash": "88279d2366fe020547cde40dd65aa0e3aa662a6ec1f3ca12d88834876c85e1a6"
   }
  }
 },
 "nbformat": 4,
 "nbformat_minor": 2
}
